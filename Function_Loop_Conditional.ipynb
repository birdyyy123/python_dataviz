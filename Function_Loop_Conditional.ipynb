{
 "cells": [
  {
   "cell_type": "markdown",
   "metadata": {},
   "source": [
    "# Function\n",
    "### print ชื่อ XXX นามสกุล YYY รหัส ZZZ\n",
    "### print เกรด วิชา Stat1 >>> AAA"
   ]
  },
  {
   "cell_type": "code",
   "execution_count": 1,
   "metadata": {},
   "outputs": [
    {
     "name": "stdout",
     "output_type": "stream",
     "text": [
      "ชื่อ พรภิรมย์ โลจรัส รหัส 603020478-1\n"
     ]
    }
   ],
   "source": [
    "a = f'ชื่อ พรภิรมย์ โลจรัส รหัส 603020478-1'\n",
    "print(a)"
   ]
  },
  {
   "cell_type": "code",
   "execution_count": 4,
   "metadata": {},
   "outputs": [
    {
     "name": "stdout",
     "output_type": "stream",
     "text": [
      "ชื่อ พรภิรมย์ นามสกุล โลจรัส รหัส 603020478-1\n"
     ]
    }
   ],
   "source": [
    "name = 'พรภิรมย์'\n",
    "surname = 'โลจรัส'\n",
    "ID = '603020478-1'\n",
    "\n",
    "b= f'ชื่อ {name} นามสกุล {surname} รหัส {ID}'\n",
    "print(b)"
   ]
  },
  {
   "cell_type": "markdown",
   "metadata": {},
   "source": [
    "# normal function"
   ]
  },
  {
   "cell_type": "markdown",
   "metadata": {},
   "source": [
    "```python\n",
    "def function_name(x):\n",
    "    do_something\n",
    "    return y\n",
    "```"
   ]
  },
  {
   "cell_type": "code",
   "execution_count": 6,
   "metadata": {},
   "outputs": [],
   "source": [
    "def print_line1(name1,surname1,ID1): \n",
    "    st = f'ชื่อ {name1} นามสกุล {surname1} รหัส {ID1}'\n",
    "    return st"
   ]
  },
  {
   "cell_type": "code",
   "execution_count": 7,
   "metadata": {},
   "outputs": [
    {
     "name": "stdout",
     "output_type": "stream",
     "text": [
      "ชื่อ ทัชมินทร์ นามสกุล เซี่ยงอึ้ง รหัส 603020470-7\n"
     ]
    }
   ],
   "source": [
    "print(print_line1('ทัชมินทร์','เซี่ยงอึ้ง','603020470-7'))"
   ]
  },
  {
   "cell_type": "markdown",
   "metadata": {},
   "source": [
    "# function without output"
   ]
  },
  {
   "cell_type": "code",
   "execution_count": 20,
   "metadata": {},
   "outputs": [],
   "source": [
    "def print_2line(name1,surname1,ID1,G): \n",
    "    st = f'ชื่อ {name1} นามสกุล {surname1} รหัส {ID1}' #แบบไม่มี output\n",
    "    print(st)\n",
    "    st2 = f'เกรด Stat1 >> {G}'\n",
    "    print(st2)"
   ]
  },
  {
   "cell_type": "code",
   "execution_count": 21,
   "metadata": {},
   "outputs": [
    {
     "name": "stdout",
     "output_type": "stream",
     "text": [
      "ชื่อ พรภิรมย์ นามสกุล โลจรัส รหัส 603020478-1\n",
      "เกรด Stat1 >> A\n",
      "ชื่อ ทัชมินทร์ นามสกุล เซี่ยงอึ้ง รหัส 603020470-7\n",
      "เกรด Stat1 >> A\n",
      "ชื่อ วิภาวดี นามสกุล แก้วดวงดี รหัส 603021112-8\n",
      "เกรด Stat1 >> A\n",
      "ชื่อ พุธิตา นามสกุล เจือจันทร์ รหัส 603021879-8\n",
      "เกรด Stat1 >> A\n"
     ]
    }
   ],
   "source": [
    "print_2line('พรภิรมย์','โลจรัส','603020478-1','A')\n",
    "print_2line('ทัชมินทร์','เซี่ยงอึ้ง','603020470-7','A')\n",
    "print_2line('วิภาวดี','แก้วดวงดี','603021112-8','A')\n",
    "print_2line('พุธิตา','เจือจันทร์','603021879-8','A')"
   ]
  },
  {
   "cell_type": "markdown",
   "metadata": {},
   "source": [
    "# function without input"
   ]
  },
  {
   "cell_type": "code",
   "execution_count": 7,
   "metadata": {},
   "outputs": [],
   "source": [
    "def not_inprt(): \n",
    "    x = 2*3\n",
    "    return(x)"
   ]
  },
  {
   "cell_type": "code",
   "execution_count": 8,
   "metadata": {},
   "outputs": [
    {
     "data": {
      "text/plain": [
       "6"
      ]
     },
     "execution_count": 8,
     "metadata": {},
     "output_type": "execute_result"
    }
   ],
   "source": [
    "not_inprt()"
   ]
  },
  {
   "cell_type": "markdown",
   "metadata": {},
   "source": [
    "# function with default argument"
   ]
  },
  {
   "cell_type": "code",
   "execution_count": 26,
   "metadata": {},
   "outputs": [],
   "source": [
    "def with_default(name1,surname1,ID1,G='B'): \n",
    "    st = f'ชื่อ {name1} นามสกุล {surname1} รหัส {ID1}'\n",
    "    print(st)\n",
    "    st2 = f'เกรด Stat1 >> {G}'\n",
    "    print(st2)"
   ]
  },
  {
   "cell_type": "code",
   "execution_count": 28,
   "metadata": {},
   "outputs": [
    {
     "name": "stdout",
     "output_type": "stream",
     "text": [
      "ชื่อ วิภาวดี นามสกุล แก้วดวงดี รหัส 603021112-8\n",
      "เกรด Stat1 >> B\n"
     ]
    }
   ],
   "source": [
    "with_default('วิภาวดี','แก้วดวงดี','603021112-8')"
   ]
  },
  {
   "cell_type": "markdown",
   "metadata": {},
   "source": [
    "# Loop (วนซ้ำ)"
   ]
  },
  {
   "cell_type": "markdown",
   "metadata": {},
   "source": [
    "```python\n",
    "for each_member in listA:\n",
    "    do something\n",
    "```"
   ]
  },
  {
   "cell_type": "code",
   "execution_count": 31,
   "metadata": {},
   "outputs": [
    {
     "name": "stdout",
     "output_type": "stream",
     "text": [
      "1\n",
      "2\n",
      "3\n"
     ]
    }
   ],
   "source": [
    "for i in [1,2,3]:\n",
    "    print(i)"
   ]
  },
  {
   "cell_type": "code",
   "execution_count": 32,
   "metadata": {},
   "outputs": [
    {
     "name": "stdout",
     "output_type": "stream",
     "text": [
      "P-> /\n",
      "h-> /\n",
      "o-> /\n",
      "r-> /\n",
      "n-> /\n",
      "p-> /\n",
      "i-> /\n",
      "r-> /\n",
      "o-> /\n",
      "m-> /\n"
     ]
    }
   ],
   "source": [
    "for i in 'Phornpirom':\n",
    "    print(f'{i}-> /')\n",
    "    "
   ]
  },
  {
   "cell_type": "markdown",
   "metadata": {},
   "source": [
    "## สร้าง list ชื่อเพื่อนที่อยู่ในแถวยาวเดียวกัน\n",
    "## loop ประโยคว่า xxx รักเพื่อน"
   ]
  },
  {
   "cell_type": "code",
   "execution_count": 38,
   "metadata": {},
   "outputs": [],
   "source": [
    "list_frints = ['มิน','เอิร์น','ดิว','ไอ่','ขวัญ']"
   ]
  },
  {
   "cell_type": "markdown",
   "metadata": {},
   "source": [
    "## function in loop"
   ]
  },
  {
   "cell_type": "code",
   "execution_count": 107,
   "metadata": {},
   "outputs": [],
   "source": [
    "def frints(name,K,name1):\n",
    "    st = f'{name} {K} {name1}'\n",
    "    print(st)"
   ]
  },
  {
   "cell_type": "code",
   "execution_count": 110,
   "metadata": {},
   "outputs": [
    {
     "name": "stdout",
     "output_type": "stream",
     "text": [
      "เบิร์ด เล่นกับ มิน\n",
      "เบิร์ด เล่นกับ เอิร์น\n",
      "เบิร์ด เล่นกับ ดิว\n",
      "เบิร์ด เล่นกับ ไอ่\n",
      "เบิร์ด เล่นกับ ขวัญ\n"
     ]
    }
   ],
   "source": [
    "K = 'เล่นกับ'\n",
    "for i in range(len(list_frints)):\n",
    "    frints('เบิร์ด',K,list_frints[i])"
   ]
  },
  {
   "cell_type": "code",
   "execution_count": 112,
   "metadata": {},
   "outputs": [
    {
     "name": "stdout",
     "output_type": "stream",
     "text": [
      "เบิร์ด เล่นกับ มิน\n",
      "เบิร์ด เล่นกับ เอิร์น\n",
      "เบิร์ด เล่นกับ ดิว\n",
      "เบิร์ด เล่นกับ ไอ่\n",
      "เบิร์ด เล่นกับ ขวัญ\n"
     ]
    }
   ],
   "source": [
    "K = 'เล่นกับ'\n",
    "for i in list_frints:\n",
    "    frints('เบิร์ด',K,i)"
   ]
  },
  {
   "cell_type": "code",
   "execution_count": 53,
   "metadata": {},
   "outputs": [],
   "source": [
    "u = list_frints[1]"
   ]
  },
  {
   "cell_type": "code",
   "execution_count": 64,
   "metadata": {},
   "outputs": [
    {
     "data": {
      "text/plain": [
       "range(0, 5)"
      ]
     },
     "execution_count": 64,
     "metadata": {},
     "output_type": "execute_result"
    }
   ],
   "source": [
    "range(len(list_frints))"
   ]
  },
  {
   "cell_type": "markdown",
   "metadata": {},
   "source": [
    "## loop in function"
   ]
  },
  {
   "cell_type": "code",
   "execution_count": 113,
   "metadata": {},
   "outputs": [],
   "source": [
    "def fin(i,k,f):\n",
    "    for j in f:\n",
    "        print(f'{i} {k} {j}')"
   ]
  },
  {
   "cell_type": "code",
   "execution_count": 114,
   "metadata": {},
   "outputs": [
    {
     "name": "stdout",
     "output_type": "stream",
     "text": [
      "เบิร์ด love มิน\n",
      "เบิร์ด love เอิร์น\n",
      "เบิร์ด love ดิว\n",
      "เบิร์ด love ไอ่\n",
      "เบิร์ด love ขวัญ\n"
     ]
    }
   ],
   "source": [
    "fin('เบิร์ด','love',list_frints)"
   ]
  },
  {
   "cell_type": "markdown",
   "metadata": {},
   "source": [
    "# loop in dict"
   ]
  },
  {
   "cell_type": "code",
   "execution_count": 115,
   "metadata": {},
   "outputs": [
    {
     "data": {
      "text/plain": [
       "{'bird': 'S', 'min': 'S', 'diw': 'S'}"
      ]
     },
     "execution_count": 115,
     "metadata": {},
     "output_type": "execute_result"
    }
   ],
   "source": [
    "name_G = {'bird':'S','min':'S','diw':'S'}\n",
    "name_G"
   ]
  },
  {
   "cell_type": "code",
   "execution_count": 116,
   "metadata": {},
   "outputs": [
    {
     "data": {
      "text/plain": [
       "'S'"
      ]
     },
     "execution_count": 116,
     "metadata": {},
     "output_type": "execute_result"
    }
   ],
   "source": [
    "name_G['bird']"
   ]
  },
  {
   "cell_type": "code",
   "execution_count": 117,
   "metadata": {},
   "outputs": [
    {
     "name": "stdout",
     "output_type": "stream",
     "text": [
      "bird ได้เกรด S\n",
      "min ได้เกรด S\n",
      "diw ได้เกรด S\n"
     ]
    }
   ],
   "source": [
    "for i in name_G.keys():\n",
    "    print(f'{i} ได้เกรด {name_G[i]}')"
   ]
  },
  {
   "cell_type": "markdown",
   "metadata": {},
   "source": [
    "# loop in loop"
   ]
  },
  {
   "cell_type": "code",
   "execution_count": 118,
   "metadata": {},
   "outputs": [
    {
     "name": "stdout",
     "output_type": "stream",
     "text": [
      "มิน love มิน\n",
      "มิน love เอิร์น\n",
      "มิน love ดิว\n",
      "มิน love ไอ่\n",
      "มิน love ขวัญ\n",
      "เอิร์น love มิน\n",
      "เอิร์น love เอิร์น\n",
      "เอิร์น love ดิว\n",
      "เอิร์น love ไอ่\n",
      "เอิร์น love ขวัญ\n",
      "ดิว love มิน\n",
      "ดิว love เอิร์น\n",
      "ดิว love ดิว\n",
      "ดิว love ไอ่\n",
      "ดิว love ขวัญ\n",
      "ไอ่ love มิน\n",
      "ไอ่ love เอิร์น\n",
      "ไอ่ love ดิว\n",
      "ไอ่ love ไอ่\n",
      "ไอ่ love ขวัญ\n",
      "ขวัญ love มิน\n",
      "ขวัญ love เอิร์น\n",
      "ขวัญ love ดิว\n",
      "ขวัญ love ไอ่\n",
      "ขวัญ love ขวัญ\n"
     ]
    }
   ],
   "source": [
    "for name1 in list_frints:\n",
    "    for j in list_frints:\n",
    "        frints(name1,'love',j)"
   ]
  },
  {
   "cell_type": "markdown",
   "metadata": {},
   "source": [
    "# if else OR conditional"
   ]
  },
  {
   "cell_type": "markdown",
   "metadata": {},
   "source": [
    "```python\n",
    "if conditional1:\n",
    "    do something\n",
    "elif conditional2:\n",
    "    do another thing\n",
    "else:\n",
    "    do ...\n",
    "```"
   ]
  },
  {
   "cell_type": "code",
   "execution_count": 120,
   "metadata": {},
   "outputs": [
    {
     "name": "stdout",
     "output_type": "stream",
     "text": [
      "มิน love เอิร์น\n",
      "มิน love ดิว\n",
      "มิน love ไอ่\n",
      "มิน love ขวัญ\n",
      "เอิร์น love มิน\n",
      "เอิร์น love ดิว\n",
      "เอิร์น love ไอ่\n",
      "เอิร์น love ขวัญ\n",
      "ดิว love มิน\n",
      "ดิว love เอิร์น\n",
      "ดิว love ไอ่\n",
      "ดิว love ขวัญ\n",
      "ไอ่ love มิน\n",
      "ไอ่ love เอิร์น\n",
      "ไอ่ love ดิว\n",
      "ไอ่ love ขวัญ\n",
      "ขวัญ love มิน\n",
      "ขวัญ love เอิร์น\n",
      "ขวัญ love ดิว\n",
      "ขวัญ love ไอ่\n"
     ]
    }
   ],
   "source": [
    "for name1 in list_frints:\n",
    "    for j in list_frints:\n",
    "        if name1 != j:\n",
    "            frints(name1,'love',j)"
   ]
  },
  {
   "cell_type": "code",
   "execution_count": 124,
   "metadata": {},
   "outputs": [
    {
     "name": "stdout",
     "output_type": "stream",
     "text": [
      "NO\n"
     ]
    }
   ],
   "source": [
    "if False:\n",
    "    print('yes')\n",
    "else:\n",
    "    print('NO')"
   ]
  },
  {
   "cell_type": "code",
   "execution_count": 125,
   "metadata": {},
   "outputs": [
    {
     "name": "stdout",
     "output_type": "stream",
     "text": [
      "1=1\n"
     ]
    }
   ],
   "source": [
    "if 1 == 1:\n",
    "    print('1=1')"
   ]
  },
  {
   "cell_type": "markdown",
   "metadata": {},
   "source": [
    "# ==, !=, >=, <=,>,<"
   ]
  },
  {
   "cell_type": "markdown",
   "metadata": {},
   "source": [
    "# HW\n",
    "เขียน function ตัดเกรดโดยที่ input เป้น คะแนน output เป็นเกรด\n",
    "[1,50,65,90,101,-5,49]"
   ]
  },
  {
   "cell_type": "code",
   "execution_count": 1,
   "metadata": {},
   "outputs": [],
   "source": [
    "O = [1,50,65,90,101,-5,49]"
   ]
  },
  {
   "cell_type": "code",
   "execution_count": 2,
   "metadata": {},
   "outputs": [
    {
     "name": "stdout",
     "output_type": "stream",
     "text": [
      "F\n",
      "D\n",
      "C+\n",
      "A\n",
      "error\n",
      "error\n",
      "F\n"
     ]
    }
   ],
   "source": [
    "for i in O:\n",
    "    if i>100: # ถ้าค่า i มากกว่า 100 ให้แสดง error\n",
    "        print('error')\n",
    "    elif i>79: # ถ้าค่า i มากกว่า 79 ให้แสดง A\n",
    "        print('A')\n",
    "    elif i>74: # ถ้าค่า i มากกว่า 74 ให้แสดง B+\n",
    "        print('B+')\n",
    "    elif i>69: # ถ้าค่า i มากกว่า 69 ให้แสดง B\n",
    "        print('B')\n",
    "    elif i>64: # ถ้าค่า i มากกว่า 64 ให้แสดง C+\n",
    "        print('C+')\n",
    "    elif i>59: # ถ้าค่า i มากกว่า 59 ให้แสดง C\n",
    "        print('C')\n",
    "    elif i>54: # ถ้าค่า i มากกว่า 54 ให้แสดง D+\n",
    "        print('D+')\n",
    "    elif i>49: # ถ้าค่า i มากกว่า 49 ให้แสดง D\n",
    "        print('D')\n",
    "    elif i>-1: # ถ้าค่า i มากกว่า -1 ให้แสดง F\n",
    "        print('F')\n",
    "    else: # ถ้าค่า i ไม่เข้าเงื่อนไขใดเลย ให้แสดง error\n",
    "        print('error')"
   ]
  },
  {
   "cell_type": "code",
   "execution_count": null,
   "metadata": {},
   "outputs": [],
   "source": []
  }
 ],
 "metadata": {
  "kernelspec": {
   "display_name": "Python 3",
   "language": "python",
   "name": "python3"
  },
  "language_info": {
   "codemirror_mode": {
    "name": "ipython",
    "version": 3
   },
   "file_extension": ".py",
   "mimetype": "text/x-python",
   "name": "python",
   "nbconvert_exporter": "python",
   "pygments_lexer": "ipython3",
   "version": "3.7.3"
  }
 },
 "nbformat": 4,
 "nbformat_minor": 2
}
